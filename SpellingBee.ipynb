{
 "cells": [
  {
   "cell_type": "code",
   "execution_count": 15,
   "metadata": {},
   "outputs": [],
   "source": [
    "import random\n",
    "\n",
    "skill=[0.9,0.91,0.92,0.93,0.94,0.95,0.96,0.97,0.98]\n",
    "yourskill=0.99\n",
    "number_of_bees=10000000"
   ]
  },
  {
   "cell_type": "code",
   "execution_count": 16,
   "metadata": {},
   "outputs": [
    {
     "name": "stdout",
     "output_type": "stream",
     "text": [
      "0\n",
      "1000000\n",
      "2000000\n",
      "3000000\n",
      "4000000\n",
      "5000000\n",
      "6000000\n",
      "7000000\n",
      "8000000\n",
      "9000000\n",
      "You go first, 5196623 wins, 51.96623%\n",
      "You go last, 5249289 wins, 52.49289%\n"
     ]
    }
   ],
   "source": [
    "youfirst_wins=0\n",
    "themfirst_wins=0\n",
    "\n",
    "for i in range(number_of_bees):\n",
    "    if i%1000000==0:print(i)  #This might take a while, so here's a progress counter\n",
    "    b_skill=skill.copy()\n",
    "    still_spelling=True\n",
    "    while still_spelling:\n",
    "        for j in range(len(b_skill)-1,-1,-1): #iterate backwards, or else removal messes up the counter\n",
    "            if random.random()>b_skill[j]:\n",
    "                del b_skill[j]\n",
    "        if random.random()>yourskill: #You fail on your turn (if your turn comes)\n",
    "            still_spelling=False\n",
    "            if len(b_skill)<1: #They've all failed, so if they went first, you still win\n",
    "                themfirstwins+=1\n",
    "        elif len(b_skill)<1: #They've all failed\n",
    "            youfirstwins+=1\n",
    "            themfirstwins+=1\n",
    "            still_spelling=False\n",
    "\n",
    "print(f\"You go first, {youfirst_wins} wins, {100*youfirst_wins/number_of_bees}%\")\n",
    "print(f\"You go last, {themfirst_wins} wins, {100*themfirst_wins/number_of_bees}%\")\n"
   ]
  },
  {
   "cell_type": "code",
   "execution_count": null,
   "metadata": {},
   "outputs": [],
   "source": []
  }
 ],
 "metadata": {
  "kernelspec": {
   "display_name": "Python 3",
   "language": "python",
   "name": "python3"
  },
  "language_info": {
   "codemirror_mode": {
    "name": "ipython",
    "version": 3
   },
   "file_extension": ".py",
   "mimetype": "text/x-python",
   "name": "python",
   "nbconvert_exporter": "python",
   "pygments_lexer": "ipython3",
   "version": "3.6.5"
  }
 },
 "nbformat": 4,
 "nbformat_minor": 2
}
